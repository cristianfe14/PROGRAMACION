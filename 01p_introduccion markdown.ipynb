{
 "cells": [
  {
   "cell_type": "markdown",
   "metadata": {
    "colab_type": "text",
    "id": "YnnYDNZpXJPC"
   },
   "source": [
    "# **Fundamentos de programación para analítica de datos.**\n",
    ">>**Maestría en Analítica de Datos**\n",
    "\n",
    ">>**Facultad de Ingeniería y Ciencias Básicas.**\n",
    "\n",
    ">>**Universidad Central  2020 - I**\n",
    "\n",
    "\n",
    "> >*Profesor: Jorge Victorino*\n",
    "\n",
    "> >*Profesor: Darwin Martínez*\n",
    "\n",
    ">**Tema:**\n",
    "> - Introducción a los notebooks\n",
    "> - Introducción a el lenguaje de Markdown\n",
    "\n",
    ">---"
   ]
  },
  {
   "cell_type": "markdown",
   "metadata": {
    "colab_type": "text",
    "id": "NfT2lfKRyrrm"
   },
   "source": [
    "\n",
    "A continuación se muestran diferentes ejemplos del uso del lenguaje de _markdown_ para los notebooks de _python_. El ejercicio consiste en ingresar a cada celda en mode de edición (haciendo doble-clic) y revise cómo se escribe, cómo se ve y luego practique desarrollando sus propios ejemplos.\n",
    "\n",
    "##1. Títulos en cedas de texto:\n",
    "\n",
    "Ejemplos:\n",
    "\n",
    "---\n",
    "# TÍTULO DE PRIMER NIVEL\n",
    "## Título segundo nivel\n",
    "### Título tercer nivel\n",
    "#### Título cuarto nivel\n",
    "\n",
    "\n",
    "---\n",
    "##2. Listas con viñetas y realce de texto\n",
    "Con respecto a el resaltado del texto y las listas cómo funciona: Ejemplo lista de viñetas:\n",
    "\n",
    "*   Poner texto en negrilla: __texto en negrita__ texto normal o **texto en negrilla**\n",
    "*   Poner texto en cursiva: *texto cursiva* texto normal o _texto en cursiva_\n",
    "*   Intercalar texto mono-espacio y fin de linea:<br>`texto mono`<br>texto normal\n",
    "*   Color en el texto cuando sea necesario <font color=yellow>Amarillo</font> o texto color <font color=green>Verde</font>\n",
    "-  Otro item de la lista pero inicia con guión\n",
    "-  texto tachado ~~tachado~~\n",
    "-  ''comillas'' --guiones\n",
    "\n",
    "---\n",
    "    \n",
    "\n",
    "\n",
    "\n",
    "\n"
   ]
  },
  {
   "cell_type": "markdown",
   "metadata": {
    "colab_type": "text",
    "id": "XFHd2V8RlHje"
   },
   "source": [
    "##3. Listas numeradas \n",
    "\n",
    "Ahora revisemos listas numeradas\n",
    "\n",
    "1. Primer elemento de la lista\n",
    "2. Segundo elemento de la lista\n",
    "   1. sub lista - elemento 1\n",
    "   2. sub lista - elemento 2\n",
    "2. Podemos dejar el mismo número\n",
    "1. La lista sigue numerando automáticamente...\n",
    "\n",
    "---\n",
    "\n",
    "## 4. Sangría del párrafo\n",
    "También tenemos la posibilidad de sangrar el texto cuando sea necesario\n",
    "> este es un ejemplo\n",
    ">> se puede aún más\n",
    ">>> tantas veces cómo sea necesario!\n",
    "\n",
    "***"
   ]
  },
  {
   "cell_type": "markdown",
   "metadata": {
    "colab_type": "text",
    "id": "BzGal4wGlRWl"
   },
   "source": [
    "##5. Documentar código\n",
    "Cuándo se necesita usar bloques de código con realce de sintaxis dentro de una celda de texto, por ejemplo para explicar un proceso algorítmico:\n",
    "\n",
    "\n",
    "\n",
    "\n",
    "```python\n",
    "# Tiene formato de código\n",
    "def function(a, b):\n",
    "    print('algo')\n",
    "    if a > b:\n",
    "        print('otra cosa')\n",
    "```\n",
    "\n",
    "\n",
    "\n",
    "```javascript\n",
    "// comentario javascript\n",
    "if(x=1; x<10; x++){\n",
    "  console.log(\"Hola mundo\")  \n",
    "}\n",
    "```\n",
    "Este es otro bloque de código, por ejemplo para otra tarea:\n",
    "\n",
    "```python\n",
    "# comentario python\n",
    "def minimun(A):\n",
    "    A.sort()\n",
    "    print('ordena arreglo')\n",
    "    return a[0]\n",
    "```\n",
    "***\n",
    "\n",
    "##6. Uso de caracteres especiales Unicode\n",
    "Carácteres Unicode ejemplos: &#9728; &#9730; &#9742; &#9775; \n",
    "\n",
    "Uso de código decimal y hexadecimal: &#960; &#x3c0; &#405; &#x195; &#x2602; &#x1f31e;\n",
    "\n",
    "Para un listado completo de todos los caracteres buscar en: [FileFormat.info](https://www.fileformat.info/info/charset/index.htm)\n",
    "\n",
    "\n",
    "* Contra barra y espacio: \\\\ \\\n",
    "* Asterisco y barra baja: \\* \\_\n",
    "* Paréntesis: \\{\\} \\[\\] \\(\\)\n",
    "* Sostenido: \\#\n",
    "* Otros: \\+ \\- \\. \\! \\: \\\n",
    "\n",
    "Para finalizar una línea de separación \n",
    "***\n",
    "También se puede hacer con guíones:\n",
    "\n",
    "---\n",
    "\n"
   ]
  },
  {
   "cell_type": "markdown",
   "metadata": {
    "colab_type": "text",
    "id": "5WbRQdnZ4y_3"
   },
   "source": [
    "## 7. Use latex para las ecuaciones:\n",
    "\n",
    "A continuación ejemplos de codificación en latex para mostrar ecuaciones con calidad. \n",
    "- $\\sum \\int \\frac{\\sqrt{x}}{a}$\n",
    "\n",
    "- $\\sin^2 x + \\cos^2 x = 1$\n",
    "\n",
    "\n",
    "- $S = \\mathrm{k_B}\\ln\\Omega$\n",
    "\n",
    "\n",
    "- $$\\left[\\begin{matrix}   a & b & c \\\\   d & e & f \\\\   g & h & i \\end{matrix}\\right]$$\n",
    "\n",
    "\n",
    "- $$\\mathbf{K}=\\int_V \\mathbf{B}^\\intercal \\mathbf{D B}\\mathrm{d}x \\mathrm{d}y \\mathrm{d}z$$\n",
    "\n",
    "\n",
    "- $$\\sum_{k=1}^N \\sqrt{k_i^2+1}$$\n",
    "\n",
    "\n",
    "- $\\left({1+\\displaystyle\\frac{1}{n}}\\right)^n$\n",
    " \n",
    "Existe gran cantidad de documentación de __latex__ en la red, en este sitio puede iniciar a practicar con algunas fórmulas [latex formulas](http://minisconlatex.blogspot.com/2010/11/ecuaciones.html)\n",
    "\n",
    "También puede practicar en un editor en línea [Editor de ecucaciones](https://www.codecogs.com/latex/eqneditor.php?lang=es-es)\n",
    "\n",
    "***"
   ]
  },
  {
   "cell_type": "markdown",
   "metadata": {
    "colab_type": "text",
    "id": "SV_g8kk48DQw"
   },
   "source": [
    "## 8. Editar tablas \n",
    "Siguiendo algunas convenciones simples, como se muestra en el siguiente ejemplo, puede generar tablas interesantes\n",
    "\n",
    ">Operación | Siginificado | Resultado\n",
    ">--- | :---: | ---:\n",
    ">5032 + 7624 + 365  | sumar valores | 13021\n",
    ">18213 - 9567.5  | restar valores | 8645.5\n",
    ">13.3 * 8.52  | multiplicación |  113.316\n",
    ">35698.7 / 798.23 | división |  44.72232314\n",
    ">23 / 8 | División | 2.875\n",
    ">23 // 8 | División entera | 2\n",
    ">23 % 8 | Módulo de la división | 7\n",
    ">13\\*\\*2 | Potenciación | 169\n",
    "\n",
    "| h1 | h2 |\n",
    "| --- | ---: |\n",
    "| hola | mundo |\n",
    "\n",
    "***"
   ]
  },
  {
   "cell_type": "markdown",
   "metadata": {
    "colab_type": "text",
    "id": "dHaFY1K59Gz5"
   },
   "source": [
    "##9. Tarea de buscar y practicar\n",
    "- Inserte una imagen\n",
    "- Inserte un video\n",
    "- Agregue código html embebido \n",
    "- Utilice hiper-vínculos\n"
   ]
  },
  {
   "cell_type": "code",
   "execution_count": 0,
   "metadata": {
    "colab": {
     "base_uri": "https://localhost:8080/",
     "height": 34
    },
    "colab_type": "code",
    "executionInfo": {
     "elapsed": 382,
     "status": "ok",
     "timestamp": 1581172687029,
     "user": {
      "displayName": "Jorge Enrique Victorino Guzman",
      "photoUrl": "",
      "userId": "00433387948398641438"
     },
     "user_tz": 300
    },
    "id": "65CAKGp1O5e8",
    "outputId": "f0feda46-54dc-42ec-ce78-63cc1f60932f"
   },
   "outputs": [
    {
     "data": {
      "text/plain": [
       "5.0"
      ]
     },
     "execution_count": 2,
     "metadata": {
      "tags": []
     },
     "output_type": "execute_result"
    }
   ],
   "source": [
    "# mi primer programa\n",
    "2 + 2\n",
    "(50 - 5*6) / 4\n"
   ]
  },
  {
   "cell_type": "markdown",
   "metadata": {
    "colab_type": "text",
    "id": "wvXfRDN84w5C"
   },
   "source": [
    "![EB](https://fundaciongala.com/wp-content/uploads/2018/10/Enrique-Bunbury-marco-640x350.jpg)"
   ]
  },
  {
   "cell_type": "code",
   "execution_count": 0,
   "metadata": {
    "colab": {},
    "colab_type": "code",
    "id": "U-_oxCR7ETmO"
   },
   "outputs": [],
   "source": []
  },
  {
   "cell_type": "markdown",
   "metadata": {
    "colab_type": "text",
    "id": "yumMHRH4DTRg"
   },
   "source": [
    "[![Señor Thompson](https://media1.tenor.com/images/44d100bbbdda071aa70298a6ee2a3e22/tenor.gif?itemid=5491631)](https://www.youtube.com/watch?v=odR-aWzj-nQ \"Señor Thompson\")"
   ]
  },
  {
   "cell_type": "markdown",
   "metadata": {
    "colab_type": "text",
    "id": "wMOEKfycK1Q8"
   },
   "source": [
    "<table>\n",
    "    <tr>\n",
    "        <td>Mi primera linea</td>\n",
    "    </tr>\n",
    "</table>\n"
   ]
  },
  {
   "cell_type": "markdown",
   "metadata": {
    "colab_type": "text",
    "id": "Ut9cbEyLLhZe"
   },
   "source": [
    "<ol>\n",
    "<li>Rojo</li>\n",
    "<li>Blanco</li>\n",
    "<li>Naranja</li>\n",
    "</ol>"
   ]
  },
  {
   "cell_type": "markdown",
   "metadata": {
    "colab_type": "text",
    "id": "IqMOEjruL1tZ"
   },
   "source": [
    "[Bunbury](https://www.enriquebunbury.com/ \"Web Bunbury\")"
   ]
  },
  {
   "cell_type": "code",
   "execution_count": 3,
   "metadata": {
    "colab_type": "text",
    "id": "wJeLYJHALs8t"
   },
   "outputs": [],
   "source": [
    "from IPython.display import HTML \n",
    "from IPython.lib.display import YouTubeVideo\n",
    "from IPython.display import YouTubeVideo "
   ]
  },
  {
   "cell_type": "code",
   "execution_count": 9,
   "metadata": {
    "colab": {},
    "colab_type": "code",
    "id": "QNmVlzgZDS3h"
   },
   "outputs": [
    {
     "data": {
      "text/html": [
       "\n",
       "        <iframe\n",
       "            width=\"900\"\n",
       "            height=\"500\"\n",
       "            src=\"https://www.youtube.com/embed/gOwdCzN4k3Y\"\n",
       "            frameborder=\"0\"\n",
       "            allowfullscreen\n",
       "        ></iframe>\n",
       "        "
      ],
      "text/plain": [
       "<IPython.lib.display.YouTubeVideo at 0x21671290448>"
      ]
     },
     "execution_count": 9,
     "metadata": {},
     "output_type": "execute_result"
    }
   ],
   "source": [
    "id='gOwdCzN4k3Y'\n",
    "YouTubeVideo(id=id,width=900, height=500)\n"
   ]
  },
  {
   "cell_type": "markdown",
   "metadata": {
    "colab_type": "text",
    "id": "DjAQvjs-7Bhh"
   },
   "source": [
    "*texto en cursiva*"
   ]
  }
 ],
 "metadata": {
  "colab": {
   "collapsed_sections": [],
   "name": "01p_introduccion markdown.ipynb",
   "provenance": [
    {
     "file_id": "1MP2wSOfDVkaEIcyRaRLll8pEbuEk_a-G",
     "timestamp": 1581720060956
    }
   ]
  },
  "kernelspec": {
   "display_name": "Python 3",
   "language": "python",
   "name": "python3"
  },
  "language_info": {
   "codemirror_mode": {
    "name": "ipython",
    "version": 3
   },
   "file_extension": ".py",
   "mimetype": "text/x-python",
   "name": "python",
   "nbconvert_exporter": "python",
   "pygments_lexer": "ipython3",
   "version": "3.7.4"
  }
 },
 "nbformat": 4,
 "nbformat_minor": 1
}
